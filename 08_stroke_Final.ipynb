{
 "cells": [
  {
   "cell_type": "code",
   "execution_count": 1,
   "metadata": {},
   "outputs": [],
   "source": [
    "import warnings \n",
    "\n",
    "import pandas as pd\n",
    "import numpy as np\n",
    "\n",
    "from helpers import model_report_from"
   ]
  },
  {
   "cell_type": "markdown",
   "metadata": {},
   "source": [
    "# Random Forest is what Stripe uses so it will be what I use\n",
    "\n",
    "One of the most difficult tasks at Stripe is fraud detection. These occur very infrequently so they are dealing with an unbalanced binary classification problem. In their blog they explain that they have found random forests to be best suited to these issues. Therefore, I'm going to make the best random forest model that I can...\n",
    "https://stripe.com/radar/guide"
   ]
  },
  {
   "cell_type": "code",
   "execution_count": null,
   "metadata": {},
   "outputs": [],
   "source": []
  }
 ],
 "metadata": {
  "kernelspec": {
   "display_name": "Python 3.8.8 64-bit ('overkill': conda)",
   "name": "python388jvsc74a57bd06e6ad889fcaea27e21a86df4e22aa8371ee6d2820eb26a1dff21ecfb6b10d3da"
  },
  "language_info": {
   "codemirror_mode": {
    "name": "ipython",
    "version": 3
   },
   "file_extension": ".py",
   "mimetype": "text/x-python",
   "name": "python",
   "nbconvert_exporter": "python",
   "pygments_lexer": "ipython3",
   "version": "3.8.8"
  },
  "metadata": {
   "interpreter": {
    "hash": "6e6ad889fcaea27e21a86df4e22aa8371ee6d2820eb26a1dff21ecfb6b10d3da"
   }
  },
  "orig_nbformat": 2
 },
 "nbformat": 4,
 "nbformat_minor": 2
}