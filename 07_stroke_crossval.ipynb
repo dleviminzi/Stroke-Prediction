{
 "cells": [
  {
   "cell_type": "code",
   "execution_count": 53,
   "metadata": {},
   "outputs": [],
   "source": [
    "import warnings\n",
    "\n",
    "import pandas as pd \n",
    "import numpy as np\n",
    "\n",
    "from sklearn.neural_network import MLPClassifier\n",
    "from imblearn.under_sampling import RandomUnderSampler\n",
    "from sklearn.ensemble import RandomForestClassifier\n",
    "from sklearn.model_selection import StratifiedKFold\n",
    "from sklearn.model_selection import cross_validate"
   ]
  },
  {
   "cell_type": "code",
   "execution_count": 54,
   "metadata": {},
   "outputs": [],
   "source": [
    "# sometimes optimization fails to converge during grid search and i dont care\n",
    "warnings.filterwarnings('ignore')"
   ]
  },
  {
   "cell_type": "markdown",
   "metadata": {},
   "source": [
    "## Data Preperation"
   ]
  },
  {
   "cell_type": "code",
   "execution_count": 55,
   "metadata": {},
   "outputs": [],
   "source": [
    "# load training/testing data\n",
    "ft_train = np.load(\"./processed_data/features_train.npy\")\n",
    "ft_test = np.load(\"./processed_data/features_test.npy\")\n",
    "lbl_train = np.load(\"./processed_data/labels_train.npy\")\n",
    "lbl_test = np.load(\"./processed_data/labels_test.npy\")"
   ]
  },
  {
   "cell_type": "code",
   "execution_count": 56,
   "metadata": {},
   "outputs": [],
   "source": [
    "# no balance parameter, so will have to do \"by hand\"\n",
    "ros = RandomUnderSampler()\n",
    "ft_train_res, lbl_train_res = ros.fit_resample(ft_train, lbl_train)"
   ]
  },
  {
   "cell_type": "markdown",
   "metadata": {},
   "source": [
    "## Cross Validation Method (Stratified KFold)"
   ]
  },
  {
   "cell_type": "code",
   "execution_count": 57,
   "metadata": {},
   "outputs": [],
   "source": [
    "cv = StratifiedKFold(n_splits=5)"
   ]
  },
  {
   "cell_type": "markdown",
   "metadata": {},
   "source": [
    "# Cross Val Random Forest"
   ]
  },
  {
   "cell_type": "code",
   "execution_count": 58,
   "metadata": {},
   "outputs": [],
   "source": [
    "rfc = RandomForestClassifier(n_estimators=500, n_jobs=-1, class_weight='balanced', max_leaf_nodes=16, criterion='gini')"
   ]
  },
  {
   "cell_type": "code",
   "execution_count": 59,
   "metadata": {},
   "outputs": [],
   "source": [
    "scores = cross_validate(rfc, ft_train, lbl_train, cv=cv, scoring=['recall', 'accuracy'])"
   ]
  },
  {
   "cell_type": "code",
   "execution_count": 60,
   "metadata": {},
   "outputs": [
    {
     "data": {
      "text/plain": "{'fit_time': array([1.12184215, 0.24797797, 0.23200893, 0.23835611, 0.22488809]),\n 'score_time': array([0.04099798, 0.04088116, 0.04116392, 0.04991889, 0.04180884]),\n 'test_recall': array([0.8       , 0.675     , 0.7       , 0.79487179, 0.7       ]),\n 'test_accuracy': array([0.74449878, 0.76283619, 0.77506112, 0.74051408, 0.76621787])}"
     },
     "execution_count": 60,
     "metadata": {},
     "output_type": "execute_result"
    }
   ],
   "source": [
    "scores"
   ]
  },
  {
   "cell_type": "markdown",
   "metadata": {},
   "source": [
    "# Cross Val Neural Network"
   ]
  },
  {
   "cell_type": "code",
   "execution_count": 61,
   "metadata": {},
   "outputs": [],
   "source": [
    "mlp = MLPClassifier(activation='logistic', hidden_layer_sizes=(75, 50, 50, 25,))"
   ]
  },
  {
   "cell_type": "code",
   "execution_count": 62,
   "metadata": {},
   "outputs": [],
   "source": [
    "scores = cross_validate(mlp, ft_train_res, lbl_train_res, cv=cv, scoring=['recall', 'accuracy'])"
   ]
  },
  {
   "cell_type": "code",
   "execution_count": 63,
   "metadata": {},
   "outputs": [
    {
     "data": {
      "text/plain": "{'fit_time': array([1.52189803, 1.45116735, 2.35401821, 2.16017985, 0.16242409]),\n 'score_time': array([0.00068116, 0.00066471, 0.00065875, 0.00320816, 0.00071597]),\n 'test_recall': array([0.925     , 0.75      , 0.9       , 0.92307692, 0.875     ]),\n 'test_accuracy': array([0.775     , 0.75      , 0.7375    , 0.82278481, 0.72151899])}"
     },
     "execution_count": 63,
     "metadata": {},
     "output_type": "execute_result"
    }
   ],
   "source": [
    "scores"
   ]
  },
  {
   "cell_type": "code",
   "execution_count": null,
   "metadata": {},
   "outputs": [],
   "source": []
  }
 ],
 "metadata": {
  "kernelspec": {
   "display_name": "Python 3.8.8 64-bit ('overkill': conda)",
   "name": "myenv"
  },
  "language_info": {
   "codemirror_mode": {
    "name": "ipython",
    "version": 3
   },
   "file_extension": ".py",
   "mimetype": "text/x-python",
   "name": "python",
   "nbconvert_exporter": "python",
   "pygments_lexer": "ipython3",
   "version": "3.8.8"
  },
  "orig_nbformat": 2
 },
 "nbformat": 4,
 "nbformat_minor": 2
}