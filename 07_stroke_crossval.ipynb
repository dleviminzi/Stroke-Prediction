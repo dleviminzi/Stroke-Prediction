{
 "cells": [
  {
   "cell_type": "code",
   "execution_count": 23,
   "metadata": {},
   "outputs": [],
   "source": [
    "import warnings\n",
    "\n",
    "import pandas as pd \n",
    "import numpy as np\n",
    "\n",
    "from sklearn.neural_network import MLPClassifier\n",
    "from imblearn.under_sampling import RandomUnderSampler\n",
    "from sklearn.ensemble import RandomForestClassifier\n",
    "from sklearn.model_selection import StratifiedKFold\n",
    "from sklearn.model_selection import cross_validate"
   ]
  },
  {
   "cell_type": "code",
   "execution_count": 24,
   "metadata": {},
   "outputs": [],
   "source": [
    "# sometimes optimization fails to converge during grid search and i dont care\n",
    "warnings.filterwarnings('ignore')"
   ]
  },
  {
   "cell_type": "markdown",
   "metadata": {},
   "source": [
    "## Data Preperation"
   ]
  },
  {
   "cell_type": "code",
   "execution_count": 25,
   "metadata": {},
   "outputs": [],
   "source": [
    "# load training/testing data\n",
    "ft_train = np.load(\"./processed_data/features_train.npy\")\n",
    "ft_test = np.load(\"./processed_data/features_test.npy\")\n",
    "lbl_train = np.load(\"./processed_data/labels_train.npy\")\n",
    "lbl_test = np.load(\"./processed_data/labels_test.npy\")"
   ]
  },
  {
   "cell_type": "code",
   "execution_count": 26,
   "metadata": {},
   "outputs": [],
   "source": [
    "# no balance parameter, so will have to do \"by hand\"\n",
    "ros = RandomUnderSampler()\n",
    "ft_train_res, lbl_train_res = ros.fit_resample(ft_train, lbl_train)"
   ]
  },
  {
   "cell_type": "markdown",
   "metadata": {},
   "source": [
    "## Cross Validation Method (Stratified KFold)"
   ]
  },
  {
   "cell_type": "code",
   "execution_count": 27,
   "metadata": {},
   "outputs": [],
   "source": [
    "cv = StratifiedKFold(n_splits=5)"
   ]
  },
  {
   "cell_type": "markdown",
   "metadata": {},
   "source": [
    "# Cross Val Random Forest"
   ]
  },
  {
   "cell_type": "code",
   "execution_count": 28,
   "metadata": {},
   "outputs": [],
   "source": [
    "rfc = RandomForestClassifier(n_estimators=500, n_jobs=-1, class_weight='balanced', max_leaf_nodes=16, criterion='gini')"
   ]
  },
  {
   "cell_type": "code",
   "execution_count": 29,
   "metadata": {},
   "outputs": [],
   "source": [
    "scores = cross_validate(rfc, ft_train, lbl_train, cv=cv, scoring=['recall', 'accuracy'])"
   ]
  },
  {
   "cell_type": "code",
   "execution_count": 30,
   "metadata": {},
   "outputs": [
    {
     "data": {
      "text/plain": "{'fit_time': array([1.07831001, 0.28457689, 0.30106378, 0.25848889, 0.21178603]),\n 'score_time': array([0.04589605, 0.05493593, 0.04613709, 0.04116201, 0.04033613]),\n 'test_recall': array([0.6       , 0.775     , 0.7       , 0.82051282, 0.725     ]),\n 'test_accuracy': array([0.77017115, 0.74694377, 0.77383863, 0.74296206, 0.75275398])}"
     },
     "execution_count": 30,
     "metadata": {},
     "output_type": "execute_result"
    }
   ],
   "source": [
    "scores"
   ]
  },
  {
   "cell_type": "markdown",
   "metadata": {},
   "source": [
    "# Cross Val Neural Network"
   ]
  },
  {
   "cell_type": "code",
   "execution_count": 31,
   "metadata": {},
   "outputs": [],
   "source": [
    "mlp = MLPClassifier(activation='logistic', hidden_layer_sizes=(75, 50, 50, 25,))"
   ]
  },
  {
   "cell_type": "code",
   "execution_count": 32,
   "metadata": {},
   "outputs": [],
   "source": [
    "scores = cross_validate(mlp, ft_train_res, lbl_train_res, cv=cv, scoring=['recall', 'accuracy'])"
   ]
  },
  {
   "cell_type": "code",
   "execution_count": 33,
   "metadata": {},
   "outputs": [
    {
     "data": {
      "text/plain": "{'fit_time': array([0.58356905, 0.52017498, 0.81025529, 0.0355401 , 0.03141713]),\n 'score_time': array([0.00066209, 0.00064707, 0.00065374, 0.0006578 , 0.00064898]),\n 'test_recall': array([0.75 , 0.925, 0.825, 0.   , 1.   ]),\n 'test_accuracy': array([0.7       , 0.7375    , 0.7375    , 0.50632911, 0.50632911])}"
     },
     "execution_count": 33,
     "metadata": {},
     "output_type": "execute_result"
    }
   ],
   "source": [
    "scores"
   ]
  },
  {
   "cell_type": "code",
   "execution_count": null,
   "metadata": {},
   "outputs": [],
   "source": []
  }
 ],
 "metadata": {
  "kernelspec": {
   "display_name": "Python 3.8.8 64-bit ('overkill': conda)",
   "language": "python",
   "name": "python38864bitoverkillcondaa75d8b9bd26446c7af1980863d945f48"
  },
  "language_info": {
   "codemirror_mode": {
    "name": "ipython",
    "version": 3
   },
   "file_extension": ".py",
   "mimetype": "text/x-python",
   "name": "python",
   "nbconvert_exporter": "python",
   "pygments_lexer": "ipython3",
   "version": "3.8.8"
  },
  "orig_nbformat": 2
 },
 "nbformat": 4,
 "nbformat_minor": 2
}