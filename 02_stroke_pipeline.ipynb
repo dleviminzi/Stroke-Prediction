{
 "cells": [
  {
   "cell_type": "code",
   "execution_count": 79,
   "metadata": {},
   "outputs": [],
   "source": [
    "import pandas as pd \n",
    "import numpy as np\n",
    "import seaborn as sns\n",
    "\n",
    "from sklearn.preprocessing import OneHotEncoder \n",
    "from sklearn.preprocessing import LabelEncoder\n",
    "from sklearn.preprocessing import StandardScaler\n",
    "from sklearn.compose import ColumnTransformer\n",
    "from sklearn.model_selection import train_test_split\n",
    "from sklearn.pipeline import Pipeline\n",
    "from sklearn.impute import KNNImputer\n",
    "from matplotlib import pyplot as plt"
   ]
  },
  {
   "cell_type": "code",
   "execution_count": 80,
   "metadata": {},
   "outputs": [],
   "source": [
    "df = pd.read_csv('./raw_data/dataset-stroke.csv').drop(columns=['id'])"
   ]
  },
  {
   "cell_type": "code",
   "execution_count": 81,
   "metadata": {},
   "outputs": [
    {
     "data": {
      "text/html": "<div>\n<style scoped>\n    .dataframe tbody tr th:only-of-type {\n        vertical-align: middle;\n    }\n\n    .dataframe tbody tr th {\n        vertical-align: top;\n    }\n\n    .dataframe thead th {\n        text-align: right;\n    }\n</style>\n<table border=\"1\" class=\"dataframe\">\n  <thead>\n    <tr style=\"text-align: right;\">\n      <th></th>\n      <th>gender</th>\n      <th>age</th>\n      <th>hypertension</th>\n      <th>heart_disease</th>\n      <th>ever_married</th>\n      <th>work_type</th>\n      <th>Residence_type</th>\n      <th>avg_glucose_level</th>\n      <th>bmi</th>\n      <th>smoking_status</th>\n      <th>stroke</th>\n    </tr>\n  </thead>\n  <tbody>\n    <tr>\n      <th>0</th>\n      <td>Male</td>\n      <td>67.0</td>\n      <td>0</td>\n      <td>1</td>\n      <td>Yes</td>\n      <td>Private</td>\n      <td>Urban</td>\n      <td>228.69</td>\n      <td>36.6</td>\n      <td>formerly smoked</td>\n      <td>1</td>\n    </tr>\n    <tr>\n      <th>1</th>\n      <td>Female</td>\n      <td>61.0</td>\n      <td>0</td>\n      <td>0</td>\n      <td>Yes</td>\n      <td>Self-employed</td>\n      <td>Rural</td>\n      <td>202.21</td>\n      <td>NaN</td>\n      <td>never smoked</td>\n      <td>1</td>\n    </tr>\n    <tr>\n      <th>2</th>\n      <td>Male</td>\n      <td>80.0</td>\n      <td>0</td>\n      <td>1</td>\n      <td>Yes</td>\n      <td>Private</td>\n      <td>Rural</td>\n      <td>105.92</td>\n      <td>32.5</td>\n      <td>never smoked</td>\n      <td>1</td>\n    </tr>\n    <tr>\n      <th>3</th>\n      <td>Female</td>\n      <td>49.0</td>\n      <td>0</td>\n      <td>0</td>\n      <td>Yes</td>\n      <td>Private</td>\n      <td>Urban</td>\n      <td>171.23</td>\n      <td>34.4</td>\n      <td>smokes</td>\n      <td>1</td>\n    </tr>\n    <tr>\n      <th>4</th>\n      <td>Female</td>\n      <td>79.0</td>\n      <td>1</td>\n      <td>0</td>\n      <td>Yes</td>\n      <td>Self-employed</td>\n      <td>Rural</td>\n      <td>174.12</td>\n      <td>24.0</td>\n      <td>never smoked</td>\n      <td>1</td>\n    </tr>\n  </tbody>\n</table>\n</div>",
      "text/plain": "   gender   age  hypertension  heart_disease ever_married      work_type  \\\n0    Male  67.0             0              1          Yes        Private   \n1  Female  61.0             0              0          Yes  Self-employed   \n2    Male  80.0             0              1          Yes        Private   \n3  Female  49.0             0              0          Yes        Private   \n4  Female  79.0             1              0          Yes  Self-employed   \n\n  Residence_type  avg_glucose_level   bmi   smoking_status  stroke  \n0          Urban             228.69  36.6  formerly smoked       1  \n1          Rural             202.21   NaN     never smoked       1  \n2          Rural             105.92  32.5     never smoked       1  \n3          Urban             171.23  34.4           smokes       1  \n4          Rural             174.12  24.0     never smoked       1  "
     },
     "execution_count": 81,
     "metadata": {},
     "output_type": "execute_result"
    }
   ],
   "source": [
    "df.head()"
   ]
  },
  {
   "cell_type": "code",
   "execution_count": 82,
   "metadata": {},
   "outputs": [],
   "source": [
    "df.dropna(inplace=True)"
   ]
  },
  {
   "cell_type": "code",
   "execution_count": 83,
   "metadata": {},
   "outputs": [
    {
     "data": {
      "text/plain": "209"
     },
     "execution_count": 83,
     "metadata": {},
     "output_type": "execute_result"
    }
   ],
   "source": [
    "len(df[df.stroke==1])"
   ]
  },
  {
   "cell_type": "code",
   "execution_count": 84,
   "metadata": {},
   "outputs": [],
   "source": [
    "# separating the data that we are trying to predict\n",
    "labels = df.stroke.to_numpy()\n",
    "df.drop(columns=['stroke'], inplace=True)"
   ]
  },
  {
   "cell_type": "code",
   "execution_count": 85,
   "metadata": {},
   "outputs": [],
   "source": [
    "# categorical features\n",
    "cat_ft = ['smoking_status', 'work_type', 'Residence_type', 'gender', 'ever_married'] \n",
    "# numerical features\n",
    "num_ft = list(df.drop(columns=cat_ft))"
   ]
  },
  {
   "cell_type": "code",
   "execution_count": 86,
   "metadata": {},
   "outputs": [],
   "source": [
    "# df.gender = df.gender.apply(lambda x: 0 if x == 'Male' else 1)\n",
    "# df.ever_married = df.ever_married.apply(lambda x: 0 if x == 'Yes' else 1)"
   ]
  },
  {
   "cell_type": "markdown",
   "metadata": {},
   "source": [
    "# Pipeline construction"
   ]
  },
  {
   "cell_type": "markdown",
   "metadata": {},
   "source": [
    "### Feature Augmentation"
   ]
  },
  {
   "cell_type": "code",
   "execution_count": 87,
   "metadata": {},
   "outputs": [],
   "source": [
    "from sklearn.base import BaseEstimator, TransformerMixin\n",
    "from collections import defaultdict\n",
    "class AugmentFeatures(BaseEstimator, TransformerMixin):\n",
    "    '''\n",
    "    https://www.ncbi.nlm.nih.gov/pmc/articles/PMC4681110/\n",
    "    '''\n",
    "    def __init__(self, fts): \n",
    "        self.fts = fts\n",
    "        \n",
    "    def fit(self, X, y=None):\n",
    "        return self  # nothing else to do\n",
    "    \n",
    "    def transform(self, X):\n",
    "        bmi_i = self.fts.index('bmi')\n",
    "        age_i = self.fts.index('age')\n",
    "\n",
    "        # collect bmi expectation for age ranges\n",
    "        bmis = {}\n",
    "        for age in X[:, age_i]:\n",
    "            if age not in bmis:\n",
    "                bmis[int(age)] = df[df.age.isin(range(int(age)-5, int(age)+5))].bmi.mean()\n",
    "\n",
    "        # calculate squared difference from expected bmi\n",
    "        diff_bmi = []\n",
    "        for bmi in X[:, bmi_i]:\n",
    "            diff_bmi.append(abs(bmi - bmis[int(age)])**2)\n",
    "\n",
    "        # cross deviation from mean bmi with age\n",
    "        dev_C_age = X[:, age_i] * diff_bmi\n",
    "\n",
    "        # print(dev_C_age.shape)\n",
    "        # print(X.shape)\n",
    "\n",
    "        return np.c_[X, dev_C_age]"
   ]
  },
  {
   "cell_type": "markdown",
   "metadata": {},
   "source": [
    "### Feature Imputation"
   ]
  },
  {
   "cell_type": "code",
   "execution_count": 93,
   "metadata": {},
   "outputs": [],
   "source": [
    "# using 2 nearest neighbors to fill in missing values\n",
    "imputer = KNNImputer(n_neighbors=2)"
   ]
  },
  {
   "cell_type": "markdown",
   "metadata": {},
   "source": [
    "### Final Pipeline"
   ]
  },
  {
   "cell_type": "code",
   "execution_count": 94,
   "metadata": {},
   "outputs": [],
   "source": [
    "num_pipe = Pipeline([\n",
    "    ('imputer', imputer),\n",
    "    ('ft_aug', AugmentFeatures(fts = num_ft)),\n",
    "    ('std_scaler', StandardScaler())\n",
    "])\n",
    "\n",
    "full_pipe = ColumnTransformer([\n",
    "    ('cat', OneHotEncoder(), cat_ft),\n",
    "    ('num', num_pipe, num_ft) \n",
    "])"
   ]
  },
  {
   "cell_type": "code",
   "execution_count": 95,
   "metadata": {},
   "outputs": [],
   "source": [
    "ft_train, ft_test, lbl_train, lbl_test = train_test_split(df, labels, test_size=0.20, stratify=labels)"
   ]
  },
  {
   "cell_type": "code",
   "execution_count": 96,
   "metadata": {},
   "outputs": [],
   "source": [
    "features_full = full_pipe.fit_transform(df)"
   ]
  },
  {
   "cell_type": "code",
   "execution_count": 97,
   "metadata": {},
   "outputs": [],
   "source": [
    "features_train = full_pipe.fit_transform(ft_train)\n",
    "features_test = full_pipe.transform(ft_test)"
   ]
  },
  {
   "cell_type": "markdown",
   "metadata": {},
   "source": [
    "## Recovering feature names"
   ]
  },
  {
   "cell_type": "code",
   "execution_count": 98,
   "metadata": {},
   "outputs": [
    {
     "data": {
      "text/plain": "<bound method ColumnTransformer.get_feature_names of ColumnTransformer(transformers=[('cat', OneHotEncoder(),\n                                 ['smoking_status', 'work_type',\n                                  'Residence_type', 'gender', 'ever_married']),\n                                ('num',\n                                 Pipeline(steps=[('imputer',\n                                                  KNNImputer(n_neighbors=2)),\n                                                 ('ft_aug',\n                                                  AugmentFeatures(fts=['age',\n                                                                       'hypertension',\n                                                                       'heart_disease',\n                                                                       'avg_glucose_level',\n                                                                       'bmi'])),\n                                                 ('std_scaler',\n                                                  StandardScaler())]),\n                                 ['age', 'hypertension', 'heart_disease',\n                                  'avg_glucose_level', 'bmi'])])>"
     },
     "execution_count": 98,
     "metadata": {},
     "output_type": "execute_result"
    }
   ],
   "source": [
    "full_pipe.get_feature_names"
   ]
  },
  {
   "cell_type": "code",
   "execution_count": 99,
   "metadata": {},
   "outputs": [],
   "source": [
    "x = list(list(x) for x in full_pipe.named_transformers_[\"cat\"].categories_)"
   ]
  },
  {
   "cell_type": "code",
   "execution_count": 100,
   "metadata": {},
   "outputs": [
    {
     "data": {
      "text/plain": "[['Unknown', 'formerly smoked', 'never smoked', 'smokes'],\n ['Govt_job', 'Never_worked', 'Private', 'Self-employed', 'children'],\n ['Rural', 'Urban'],\n ['Female', 'Male', 'Other'],\n ['No', 'Yes']]"
     },
     "execution_count": 100,
     "metadata": {},
     "output_type": "execute_result"
    }
   ],
   "source": [
    "x"
   ]
  },
  {
   "cell_type": "code",
   "execution_count": 101,
   "metadata": {},
   "outputs": [],
   "source": [
    "feature_names = np.array(x[0] + x[1] + x[2] + x[3] + x[4] + num_ft + [\"age_weighted_bmi_deviation\"])"
   ]
  },
  {
   "cell_type": "markdown",
   "metadata": {},
   "source": [
    "## Save results of pipeline"
   ]
  },
  {
   "cell_type": "code",
   "execution_count": 102,
   "metadata": {},
   "outputs": [],
   "source": [
    "np.save(\"./processed_data/features_train\", features_train)\n",
    "np.save(\"./processed_data/features_test\", features_test)\n",
    "np.save(\"./processed_data/features\", features_full)\n",
    "np.save(\"./processed_data/feature_names\", feature_names)\n",
    "np.save(\"./processed_data/labels_train\", lbl_train)\n",
    "np.save(\"./processed_data/labels_test\", lbl_test)\n",
    "np.save(\"./processed_data/labels\", labels)"
   ]
  },
  {
   "cell_type": "code",
   "execution_count": 103,
   "metadata": {},
   "outputs": [
    {
     "data": {
      "text/plain": "22"
     },
     "execution_count": 103,
     "metadata": {},
     "output_type": "execute_result"
    }
   ],
   "source": [
    "len(features_full[0])"
   ]
  },
  {
   "cell_type": "code",
   "execution_count": 104,
   "metadata": {},
   "outputs": [
    {
     "data": {
      "text/plain": "array([ 0.        ,  1.        ,  0.        ,  0.        ,  0.        ,\n        0.        ,  1.        ,  0.        ,  0.        ,  0.        ,\n        1.        ,  0.        ,  1.        ,  0.        ,  0.        ,\n        1.        ,  1.07013796, -0.31806673,  4.38196829,  2.77769839,\n        0.98134488, -0.07869544])"
     },
     "execution_count": 104,
     "metadata": {},
     "output_type": "execute_result"
    }
   ],
   "source": [
    "features_full[0]"
   ]
  },
  {
   "cell_type": "code",
   "execution_count": 105,
   "metadata": {},
   "outputs": [
    {
     "data": {
      "text/plain": "22"
     },
     "execution_count": 105,
     "metadata": {},
     "output_type": "execute_result"
    }
   ],
   "source": [
    "len(feature_names)"
   ]
  },
  {
   "cell_type": "code",
   "execution_count": 106,
   "metadata": {},
   "outputs": [
    {
     "data": {
      "text/plain": "4909"
     },
     "execution_count": 106,
     "metadata": {},
     "output_type": "execute_result"
    }
   ],
   "source": [
    "len(df)"
   ]
  },
  {
   "cell_type": "code",
   "execution_count": null,
   "metadata": {},
   "outputs": [],
   "source": []
  }
 ],
 "metadata": {
  "kernelspec": {
   "display_name": "Python 3.8.8 64-bit ('overkill': conda)",
   "language": "python",
   "name": "python38864bitoverkillcondaa75d8b9bd26446c7af1980863d945f48"
  },
  "language_info": {
   "codemirror_mode": {
    "name": "ipython",
    "version": 3
   },
   "file_extension": ".py",
   "mimetype": "text/x-python",
   "name": "python",
   "nbconvert_exporter": "python",
   "pygments_lexer": "ipython3",
   "version": "3.8.8"
  },
  "metadata": {
   "interpreter": {
    "hash": "6e6ad889fcaea27e21a86df4e22aa8371ee6d2820eb26a1dff21ecfb6b10d3da"
   }
  },
  "orig_nbformat": 2
 },
 "nbformat": 4,
 "nbformat_minor": 2
}