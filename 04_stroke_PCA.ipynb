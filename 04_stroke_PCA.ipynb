{
 "cells": [
  {
   "cell_type": "code",
   "execution_count": 61,
   "metadata": {},
   "outputs": [],
   "source": [
    "import pandas as pd\n",
    "import numpy as np\n",
    "from sklearn.decomposition import PCA\n",
    "from sklearn.decomposition import KernelPCA\n",
    "from sklearn.pipeline import Pipeline\n",
    "from sklearn.model_selection import GridSearchCV\n",
    "from sklearn.metrics import mean_squared_error\n",
    "from sklearn.linear_model import LogisticRegression"
   ]
  },
  {
   "cell_type": "code",
   "execution_count": 45,
   "metadata": {},
   "outputs": [],
   "source": [
    "ft_train = np.load(\"./processed_data/features_train.npy\")\n",
    "ft_test = np.load(\"./processed_data/features_test.npy\")\n",
    "lbl_train = np.load(\"./processed_data/labels_train.npy\")\n",
    "lbl_test = np.load(\"./processed_data/labels_test.npy\")"
   ]
  },
  {
   "cell_type": "markdown",
   "metadata": {},
   "source": [
    "## Finding the principal components that preserve the majority of the information"
   ]
  },
  {
   "cell_type": "code",
   "execution_count": 46,
   "metadata": {},
   "outputs": [
    {
     "data": {
      "text/plain": "(4088, 19)"
     },
     "execution_count": 46,
     "metadata": {},
     "output_type": "execute_result"
    }
   ],
   "source": [
    "# get dimension of features\n",
    "ft_train.shape"
   ]
  },
  {
   "cell_type": "code",
   "execution_count": 47,
   "metadata": {},
   "outputs": [],
   "source": [
    "pca = PCA(n_components=19, svd_solver=\"full\")\n",
    "ft_train_8D = pca.fit_transform(ft_train)"
   ]
  },
  {
   "cell_type": "code",
   "execution_count": 48,
   "metadata": {},
   "outputs": [],
   "source": [
    "evr = pca.explained_variance_ratio_"
   ]
  },
  {
   "cell_type": "code",
   "execution_count": 49,
   "metadata": {},
   "outputs": [
    {
     "name": "stdout",
     "output_type": "stream",
     "text": [
      "1 principle components, proportion of variance preserved: 0.2487023656530115\n",
      "2 principle components, proportion of variance preserved: 0.38373843208063985\n",
      "3 principle components, proportion of variance preserved: 0.4929163065215028\n",
      "4 principle components, proportion of variance preserved: 0.5992067703777036\n",
      "5 principle components, proportion of variance preserved: 0.6988895191852877\n",
      "6 principle components, proportion of variance preserved: 0.7770100833121601\n",
      "7 principle components, proportion of variance preserved: 0.8373028006085648\n",
      "8 principle components, proportion of variance preserved: 0.8778664663722281\n",
      "9 principle components, proportion of variance preserved: 0.912142730494012\n",
      "10 principle components, proportion of variance preserved: 0.9351370586072808\n",
      "11 principle components, proportion of variance preserved: 0.9572307953075465\n",
      "12 principle components, proportion of variance preserved: 0.9762697678043974\n",
      "13 principle components, proportion of variance preserved: 0.9926522966713771\n",
      "14 principle components, proportion of variance preserved: 0.9993160960708435\n",
      "15 principle components, proportion of variance preserved: 1.0000000000000002\n",
      "16 principle components, proportion of variance preserved: 0.9999999999999999\n",
      "17 principle components, proportion of variance preserved: 0.9999999999999999\n",
      "18 principle components, proportion of variance preserved: 0.9999999999999999\n"
     ]
    }
   ],
   "source": [
    "for i in range(1,19):\n",
    "    print(f\"{i} principle components, proportion of variance preserved: {evr[:i].sum()}\")"
   ]
  },
  {
   "cell_type": "markdown",
   "metadata": {},
   "source": [
    "## Performing PCA"
   ]
  },
  {
   "cell_type": "code",
   "execution_count": 50,
   "metadata": {},
   "outputs": [],
   "source": [
    "# seems like 10 principle components will do\n",
    "pca = PCA(n_components=0.92, svd_solver=\"full\")\n",
    "ft_train_red = pca.fit_transform(ft_train)"
   ]
  },
  {
   "cell_type": "code",
   "execution_count": 51,
   "metadata": {},
   "outputs": [
    {
     "data": {
      "text/plain": "(4088, 10)"
     },
     "execution_count": 51,
     "metadata": {},
     "output_type": "execute_result"
    }
   ],
   "source": [
    "ft_train_red.shape"
   ]
  },
  {
   "cell_type": "code",
   "execution_count": 52,
   "metadata": {},
   "outputs": [],
   "source": [
    "pca = PCA(n_components=0.92, svd_solver=\"full\")\n",
    "ft_test_red = pca.fit_transform(ft_test)"
   ]
  },
  {
   "cell_type": "code",
   "execution_count": 53,
   "metadata": {},
   "outputs": [
    {
     "data": {
      "text/plain": "(1022, 10)"
     },
     "execution_count": 53,
     "metadata": {},
     "output_type": "execute_result"
    }
   ],
   "source": [
    "ft_test_red.shape"
   ]
  },
  {
   "cell_type": "markdown",
   "metadata": {},
   "source": [
    "---------------------------------------------------------------------------------------------\n",
    "## Trying it out?"
   ]
  },
  {
   "cell_type": "code",
   "execution_count": 64,
   "metadata": {},
   "outputs": [
    {
     "data": {
      "text/plain": "GridSearchCV(cv=3,\n             estimator=Pipeline(steps=[('pca', PCA()),\n                                       ('lr',\n                                        LogisticRegression(class_weight='balanced'))]),\n             param_grid=[{'lr__C': [0.001, 0.003, 0.005, 0.01, 0.03, 0.05, 0.1,\n                                    0.3, 0.5, 1, 2, 3, 3, 4, 5],\n                          'pca__n_components': [2, 3, 5, 6, 8, 10, 11, 13, 14,\n                                                15]}])"
     },
     "execution_count": 64,
     "metadata": {},
     "output_type": "execute_result"
    }
   ],
   "source": [
    "\n",
    "clf = Pipeline([\n",
    "    (\"pca\", PCA()),\n",
    "    (\"lr\", LogisticRegression(class_weight='balanced')) \n",
    "])\n",
    "param_grid = [{\n",
    "    \"pca__n_components\": [2,3,5,6,8,10,11,13,14,15],\n",
    "    \"lr__C\": [0.001,0.003,0.005,0.01,0.03,0.05,0.1,0.3,0.5,1,2,3,3,4,5]\n",
    "}]\n",
    "\n",
    "gs = GridSearchCV(clf, param_grid, cv=3) \n",
    "gs.fit(ft_train, lbl_train)"
   ]
  },
  {
   "cell_type": "code",
   "execution_count": 65,
   "metadata": {},
   "outputs": [
    {
     "data": {
      "text/plain": "{'lr__C': 0.001, 'pca__n_components': 5}"
     },
     "execution_count": 65,
     "metadata": {},
     "output_type": "execute_result"
    }
   ],
   "source": [
    "gs.best_params_"
   ]
  },
  {
   "cell_type": "code",
   "execution_count": 98,
   "metadata": {},
   "outputs": [],
   "source": [
    "pca = PCA(n_components=5)\n",
    "ft_train_red = pca.fit_transform(ft_train)"
   ]
  },
  {
   "cell_type": "code",
   "execution_count": 99,
   "metadata": {},
   "outputs": [
    {
     "data": {
      "text/plain": "LogisticRegression(C=0.001, class_weight='balanced')"
     },
     "execution_count": 99,
     "metadata": {},
     "output_type": "execute_result"
    }
   ],
   "source": [
    "lr = LogisticRegression(class_weight='balanced', C=0.001)\n",
    "lr.fit(ft_train_red, lbl_train)"
   ]
  },
  {
   "cell_type": "code",
   "execution_count": 100,
   "metadata": {},
   "outputs": [
    {
     "name": "stdout",
     "output_type": "stream",
     "text": [
      "accuracy = 0.7563600782778865\n",
      "precision = 0.10980392156862745\n",
      "recall = 0.56\n",
      "f1 = 0.18360655737704917\n",
      "ROC AUC score = 0.6632304526748971\n"
     ]
    },
    {
     "data": {
      "image/png": "[encoded data removed]",
      "text/plain": "<Figure size 432x288 with 2 Axes>"
     },
     "metadata": {
      "needs_background": "light"
     },
     "output_type": "display_data"
    },
    {
     "data": {
      "image/png": "[encoded data removed]",
      "text/plain": "<Figure size 432x288 with 1 Axes>"
     },
     "metadata": {
      "needs_background": "light"
     },
     "output_type": "display_data"
    }
   ],
   "source": [
    "model_report_from(lr, pca.fit_transform(ft_test), lbl_test, [])"
   ]
  },
  {
   "cell_type": "code",
   "execution_count": 80,
   "metadata": {},
   "outputs": [],
   "source": [
    "import itertools\n",
    "\n",
    "import numpy as np\n",
    "import pandas as pd\n",
    "from sklearn.metrics import precision_score\n",
    "from sklearn.metrics import recall_score\n",
    "from sklearn.metrics import f1_score\n",
    "from sklearn.metrics import accuracy_score\n",
    "from sklearn.model_selection import cross_val_predict\n",
    "from sklearn.metrics import confusion_matrix\n",
    "from sklearn.metrics import plot_roc_curve\n",
    "from sklearn.metrics import roc_auc_score\n",
    "from sklearn.linear_model import LogisticRegression\n",
    "from sklearn.model_selection import cross_val_score\n",
    "from sklearn.model_selection import StratifiedKFold\n",
    "from sklearn.model_selection import GridSearchCV\n",
    "from matplotlib import pyplot as plt\n",
    "from matplotlib.pyplot import figure\n",
    "\n",
    "# Helper function that allows you to draw nicely formatted confusion matrices\n",
    "def draw_confusion_matrix(y, yhat, classes):\n",
    "    '''\n",
    "        Draws a confusion matrix for the given target and predictions\n",
    "        Adapted from scikit-learn and discussion example.\n",
    "    '''\n",
    "    plt.cla()\n",
    "    plt.clf()\n",
    "    matrix = confusion_matrix(y, yhat)\n",
    "    plt.imshow(matrix, interpolation='nearest', cmap=plt.cm.Blues)\n",
    "    plt.title(\"Confusion Matrix\")\n",
    "    plt.colorbar()\n",
    "    num_classes = len(classes)\n",
    "    plt.xticks(np.arange(num_classes), classes, rotation=90)\n",
    "    plt.yticks(np.arange(num_classes), classes)\n",
    "    \n",
    "    fmt = 'd'\n",
    "    thresh = matrix.max() / 2.\n",
    "    for i, j in itertools.product(range(matrix.shape[0]), range(matrix.shape[1])):\n",
    "        plt.text(j, i, format(matrix[i, j], fmt),\n",
    "                 horizontalalignment=\"center\",\n",
    "                 color=\"white\" if matrix[i, j] > thresh else \"black\")\n",
    "\n",
    "    plt.ylabel('True label')\n",
    "    plt.xlabel('Predicted label')\n",
    "    plt.tight_layout()\n",
    "    plt.show()\n",
    "\n",
    "\n",
    "\n",
    "def model_report_from(model, X_test, y_test, y_test_pred):\n",
    "    if len(y_test_pred) != len(X_test):\n",
    "        y_test_pred = model.predict(X_test)\n",
    "        \n",
    "    print(f\"accuracy = {1 - sum(abs(y_test_pred - y_test))/len(y_test)}\")\n",
    "    print(f\"precision = {precision_score(y_test, y_test_pred)}\")\n",
    "    print(f\"recall = {recall_score(y_test, y_test_pred)}\")\n",
    "    print(f\"f1 = {f1_score(y_test, y_test_pred)}\")\n",
    "    print(f\"ROC AUC score = {roc_auc_score(y_test, y_test_pred)}\")\n",
    "\n",
    "    # display confusion matrix\n",
    "    draw_confusion_matrix(y_test, y_test_pred, [\"NO STROKE\", \"STROKE\"])\n",
    "\n",
    "    # draw ROC curve\n",
    "    plot_roc_curve(model, X_test, y_test)\n",
    "    plt.plot([0, 1], [0, 1], 'k--')\n",
    "    plt.title(\"ROC Curve\")\n",
    "    plt.ylabel(\"True Positive Rate (Recall)\")\n",
    "    plt.xlabel(\"False Positive Rate\")\n",
    "    plt.legend(loc=\"lower right\")\n",
    "    plt.show()\n"
   ]
  },
  {
   "cell_type": "code",
   "execution_count": null,
   "metadata": {},
   "outputs": [],
   "source": []
  }
 ],
 "metadata": {
  "kernelspec": {
   "display_name": "Python 3.8.8 64-bit ('overkill': conda)",
   "name": "myenv"
  },
  "language_info": {
   "codemirror_mode": {
    "name": "ipython",
    "version": 3
   },
   "file_extension": ".py",
   "mimetype": "text/x-python",
   "name": "python",
   "nbconvert_exporter": "python",
   "pygments_lexer": "ipython3",
   "version": "3.8.8"
  },
  "orig_nbformat": 2
 },
 "nbformat": 4,
 "nbformat_minor": 2
}