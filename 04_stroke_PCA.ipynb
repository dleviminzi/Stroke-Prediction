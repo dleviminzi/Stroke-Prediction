{
 "cells": [
  {
   "cell_type": "code",
   "execution_count": 37,
   "metadata": {},
   "outputs": [],
   "source": [
    "import pandas as pd\n",
    "import numpy as np\n",
    "from sklearn.decomposition import PCA\n",
    "from sklearn.decomposition import KernelPCA\n",
    "from sklearn.pipeline import Pipeline\n",
    "from sklearn.model_selection import GridSearchCV\n",
    "from sklearn.metrics import mean_squared_error\n",
    "from sklearn.linear_model import LogisticRegression\n",
    "\n",
    "from helpers import model_report_from"
   ]
  },
  {
   "cell_type": "code",
   "execution_count": 38,
   "metadata": {},
   "outputs": [],
   "source": [
    "ft_train = np.load(\"./processed_data/features_train.npy\")\n",
    "ft_test = np.load(\"./processed_data/features_test.npy\")\n",
    "lbl_train = np.load(\"./processed_data/labels_train.npy\")\n",
    "lbl_test = np.load(\"./processed_data/labels_test.npy\")"
   ]
  },
  {
   "cell_type": "markdown",
   "metadata": {},
   "source": [
    "## Finding the principal components that preserve the majority of the information"
   ]
  },
  {
   "cell_type": "code",
   "execution_count": 39,
   "metadata": {},
   "outputs": [
    {
     "data": {
      "text/plain": "(4088, 20)"
     },
     "execution_count": 39,
     "metadata": {},
     "output_type": "execute_result"
    }
   ],
   "source": [
    "# get dimension of features\n",
    "ft_train.shape"
   ]
  },
  {
   "cell_type": "code",
   "execution_count": 40,
   "metadata": {},
   "outputs": [],
   "source": [
    "pca = PCA(n_components=19, svd_solver=\"full\")\n",
    "ft_train_8D = pca.fit_transform(ft_train)"
   ]
  },
  {
   "cell_type": "code",
   "execution_count": 41,
   "metadata": {},
   "outputs": [],
   "source": [
    "evr = pca.explained_variance_ratio_"
   ]
  },
  {
   "cell_type": "code",
   "execution_count": 42,
   "metadata": {},
   "outputs": [
    {
     "name": "stdout",
     "output_type": "stream",
     "text": [
      "1 principle components, proportion of variance preserved: 0.24353346025768122\n",
      "2 principle components, proportion of variance preserved: 0.38623892670543514\n",
      "3 principle components, proportion of variance preserved: 0.4963468951778873\n",
      "4 principle components, proportion of variance preserved: 0.5901778886078559\n",
      "5 principle components, proportion of variance preserved: 0.6801304205830012\n",
      "6 principle components, proportion of variance preserved: 0.7643717645633797\n",
      "7 principle components, proportion of variance preserved: 0.8183866293850891\n",
      "8 principle components, proportion of variance preserved: 0.8608836404436087\n",
      "9 principle components, proportion of variance preserved: 0.8925304919109232\n",
      "10 principle components, proportion of variance preserved: 0.9224467491119339\n",
      "11 principle components, proportion of variance preserved: 0.9426778225161033\n",
      "12 principle components, proportion of variance preserved: 0.9622506124821646\n",
      "13 principle components, proportion of variance preserved: 0.9792080030612428\n",
      "14 principle components, proportion of variance preserved: 0.9936897341613656\n",
      "15 principle components, proportion of variance preserved: 0.9994207615710751\n",
      "16 principle components, proportion of variance preserved: 1.0\n",
      "17 principle components, proportion of variance preserved: 1.0\n",
      "18 principle components, proportion of variance preserved: 1.0\n"
     ]
    }
   ],
   "source": [
    "for i in range(1,19):\n",
    "    print(f\"{i} principle components, proportion of variance preserved: {evr[:i].sum()}\")"
   ]
  },
  {
   "cell_type": "markdown",
   "metadata": {},
   "source": [
    "## Performing PCA"
   ]
  },
  {
   "cell_type": "code",
   "execution_count": 43,
   "metadata": {},
   "outputs": [],
   "source": [
    "# seems like 10 principle components will do\n",
    "pca = PCA(n_components=0.92, svd_solver=\"full\")\n",
    "ft_train_red = pca.fit_transform(ft_train)"
   ]
  },
  {
   "cell_type": "code",
   "execution_count": 44,
   "metadata": {},
   "outputs": [
    {
     "data": {
      "text/plain": "(4088, 10)"
     },
     "execution_count": 44,
     "metadata": {},
     "output_type": "execute_result"
    }
   ],
   "source": [
    "ft_train_red.shape"
   ]
  },
  {
   "cell_type": "code",
   "execution_count": 45,
   "metadata": {},
   "outputs": [],
   "source": [
    "# get the reduced dimension test set\n",
    "ft_test_red = pca.transform(ft_test)"
   ]
  },
  {
   "cell_type": "code",
   "execution_count": 46,
   "metadata": {},
   "outputs": [
    {
     "data": {
      "text/plain": "(1022, 10)"
     },
     "execution_count": 46,
     "metadata": {},
     "output_type": "execute_result"
    }
   ],
   "source": [
    "ft_test_red.shape"
   ]
  },
  {
   "cell_type": "markdown",
   "metadata": {},
   "source": [
    "## Save results"
   ]
  },
  {
   "cell_type": "code",
   "execution_count": 47,
   "metadata": {},
   "outputs": [],
   "source": [
    "np.save(\"./processed_data/features_train_red\", ft_train_red)\n",
    "np.save(\"./processed_data/features_test_red\", ft_test_red)"
   ]
  },
  {
   "cell_type": "markdown",
   "metadata": {},
   "source": [
    "---------------------------------------------------------------------------------------------\n",
    "## Trying it out?"
   ]
  },
  {
   "cell_type": "code",
   "execution_count": 48,
   "metadata": {},
   "outputs": [
    {
     "data": {
      "text/plain": "GridSearchCV(cv=3,\n             estimator=Pipeline(steps=[('pca', PCA()),\n                                       ('lr',\n                                        LogisticRegression(class_weight='balanced'))]),\n             param_grid=[{'lr__C': [0.001, 0.003, 0.005, 0.01, 0.03, 0.05, 0.1,\n                                    0.3, 0.5, 1, 2, 3, 3, 4, 5],\n                          'pca__n_components': [2, 3, 5, 6, 8, 10, 11, 13, 14,\n                                                15]}])"
     },
     "execution_count": 48,
     "metadata": {},
     "output_type": "execute_result"
    }
   ],
   "source": [
    "\n",
    "clf = Pipeline([\n",
    "    (\"pca\", PCA()),\n",
    "    (\"lr\", LogisticRegression(class_weight='balanced')) \n",
    "])\n",
    "param_grid = [{\n",
    "    \"pca__n_components\": [2,3,5,6,8,10,11,13,14,15],\n",
    "    \"lr__C\": [0.001,0.003,0.005,0.01,0.03,0.05,0.1,0.3,0.5,1,2,3,3,4,5]\n",
    "}]\n",
    "\n",
    "gs = GridSearchCV(clf, param_grid, cv=3) \n",
    "gs.fit(ft_train, lbl_train)"
   ]
  },
  {
   "cell_type": "code",
   "execution_count": 49,
   "metadata": {},
   "outputs": [
    {
     "data": {
      "text/plain": "{'lr__C': 0.001, 'pca__n_components': 2}"
     },
     "execution_count": 49,
     "metadata": {},
     "output_type": "execute_result"
    }
   ],
   "source": [
    "gs.best_params_"
   ]
  },
  {
   "cell_type": "code",
   "execution_count": 50,
   "metadata": {},
   "outputs": [],
   "source": [
    "pca = PCA(n_components=5)\n",
    "ft_train_red = pca.fit_transform(ft_train)"
   ]
  },
  {
   "cell_type": "code",
   "execution_count": 51,
   "metadata": {},
   "outputs": [
    {
     "data": {
      "text/plain": "LogisticRegression(C=0.001, class_weight='balanced')"
     },
     "execution_count": 51,
     "metadata": {},
     "output_type": "execute_result"
    }
   ],
   "source": [
    "lr = LogisticRegression(class_weight='balanced', C=0.001)\n",
    "lr.fit(ft_train_red, lbl_train)"
   ]
  },
  {
   "cell_type": "code",
   "execution_count": 52,
   "metadata": {},
   "outputs": [
    {
     "name": "stdout",
     "output_type": "stream",
     "text": [
      "accuracy = 0.7221135029354208\n",
      "precision = 0.10204081632653061\n",
      "recall = 0.6\n",
      "f1 = 0.1744186046511628\n",
      "ROC AUC score = 0.6641975308641975\n"
     ]
    },
    {
     "data": {
      "image/png": "[encoded data removed]",
      "text/plain": "<Figure size 432x288 with 2 Axes>"
     },
     "metadata": {
      "needs_background": "light"
     },
     "output_type": "display_data"
    },
    {
     "data": {
      "image/png": "[encoded data removed]",
      "text/plain": "<Figure size 432x288 with 1 Axes>"
     },
     "metadata": {
      "needs_background": "light"
     },
     "output_type": "display_data"
    }
   ],
   "source": [
    "# log reg w/ reduced dimension\n",
    "model_report_from(lr, pca.fit_transform(ft_test), lbl_test, [])"
   ]
  },
  {
   "cell_type": "code",
   "execution_count": 53,
   "metadata": {},
   "outputs": [
    {
     "name": "stdout",
     "output_type": "stream",
     "text": [
      "accuracy = 0.7299412915851272\n",
      "precision = 0.12828947368421054\n",
      "recall = 0.78\n",
      "f1 = 0.22033898305084748\n",
      "ROC AUC score = 0.7536831275720165\n"
     ]
    },
    {
     "data": {
      "image/png": "[encoded data removed]",
      "text/plain": "<Figure size 432x288 with 2 Axes>"
     },
     "metadata": {
      "needs_background": "light"
     },
     "output_type": "display_data"
    },
    {
     "data": {
      "image/png": "[encoded data removed]",
      "text/plain": "<Figure size 432x288 with 1 Axes>"
     },
     "metadata": {
      "needs_background": "light"
     },
     "output_type": "display_data"
    }
   ],
   "source": [
    "# vanilla log reg\n",
    "lr.fit(ft_train, lbl_train)\n",
    "model_report_from(lr, ft_test, lbl_test, [])"
   ]
  },
  {
   "cell_type": "code",
   "execution_count": null,
   "metadata": {},
   "outputs": [],
   "source": []
  }
 ],
 "metadata": {
  "kernelspec": {
   "display_name": "Python 3.8.8 64-bit ('overkill': conda)",
   "name": "python388jvsc74a57bd06e6ad889fcaea27e21a86df4e22aa8371ee6d2820eb26a1dff21ecfb6b10d3da"
  },
  "language_info": {
   "name": "python",
   "version": ""
  },
  "metadata": {
   "interpreter": {
    "hash": "6e6ad889fcaea27e21a86df4e22aa8371ee6d2820eb26a1dff21ecfb6b10d3da"
   }
  },
  "orig_nbformat": 2
 },
 "nbformat": 4,
 "nbformat_minor": 2
}