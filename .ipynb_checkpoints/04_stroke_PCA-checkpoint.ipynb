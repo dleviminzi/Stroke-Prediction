{
 "cells": [
  {
   "cell_type": "code",
   "execution_count": 1,
   "metadata": {},
   "outputs": [],
   "source": [
    "import pandas as pd\n",
    "import numpy as np\n",
    "from sklearn.decomposition import PCA\n",
    "from sklearn.decomposition import KernelPCA\n",
    "from sklearn.pipeline import Pipeline\n",
    "from sklearn.model_selection import GridSearchCV\n",
    "from sklearn.metrics import mean_squared_error\n",
    "from sklearn.linear_model import LogisticRegression\n",
    "\n",
    "from helpers import model_report_from"
   ]
  },
  {
   "cell_type": "code",
   "execution_count": 2,
   "metadata": {},
   "outputs": [],
   "source": [
    "ft_train = np.load(\"./processed_data/features_train.npy\")\n",
    "ft_test = np.load(\"./processed_data/features_test.npy\")\n",
    "lbl_train = np.load(\"./processed_data/labels_train.npy\")\n",
    "lbl_test = np.load(\"./processed_data/labels_test.npy\")"
   ]
  },
  {
   "cell_type": "markdown",
   "metadata": {},
   "source": [
    "## Finding the principal components that preserve the majority of the information"
   ]
  },
  {
   "cell_type": "code",
   "execution_count": 3,
   "metadata": {},
   "outputs": [
    {
     "data": {
      "text/plain": [
       "(4088, 20)"
      ]
     },
     "execution_count": 3,
     "metadata": {},
     "output_type": "execute_result"
    }
   ],
   "source": [
    "# get dimension of features\n",
    "ft_train.shape"
   ]
  },
  {
   "cell_type": "code",
   "execution_count": 4,
   "metadata": {},
   "outputs": [],
   "source": [
    "pca = PCA(n_components=19, svd_solver=\"full\")\n",
    "ft_train_8D = pca.fit_transform(ft_train)"
   ]
  },
  {
   "cell_type": "code",
   "execution_count": 5,
   "metadata": {},
   "outputs": [],
   "source": [
    "evr = pca.explained_variance_ratio_"
   ]
  },
  {
   "cell_type": "code",
   "execution_count": 6,
   "metadata": {},
   "outputs": [
    {
     "name": "stdout",
     "output_type": "stream",
     "text": [
      "1 principle components, proportion of variance preserved: 0.23726756478160907\n",
      "2 principle components, proportion of variance preserved: 0.3742559796129179\n",
      "3 principle components, proportion of variance preserved: 0.48164532893268686\n",
      "4 principle components, proportion of variance preserved: 0.5758623208815689\n",
      "5 principle components, proportion of variance preserved: 0.663018005573688\n",
      "6 principle components, proportion of variance preserved: 0.7489720320775177\n",
      "7 principle components, proportion of variance preserved: 0.8043179549964924\n",
      "8 principle components, proportion of variance preserved: 0.8567051272516031\n",
      "9 principle components, proportion of variance preserved: 0.8915706765338239\n",
      "10 principle components, proportion of variance preserved: 0.922066205551095\n",
      "11 principle components, proportion of variance preserved: 0.9424866966051548\n",
      "12 principle components, proportion of variance preserved: 0.9623720490057901\n",
      "13 principle components, proportion of variance preserved: 0.9791501344464963\n",
      "14 principle components, proportion of variance preserved: 0.9935314833260256\n",
      "15 principle components, proportion of variance preserved: 0.9993573805608023\n",
      "16 principle components, proportion of variance preserved: 0.9999999999999999\n",
      "17 principle components, proportion of variance preserved: 0.9999999999999999\n",
      "18 principle components, proportion of variance preserved: 0.9999999999999999\n"
     ]
    }
   ],
   "source": [
    "for i in range(1,19):\n",
    "    print(f\"{i} principle components, proportion of variance preserved: {evr[:i].sum()}\")"
   ]
  },
  {
   "cell_type": "markdown",
   "metadata": {},
   "source": [
    "## Performing PCA"
   ]
  },
  {
   "cell_type": "code",
   "execution_count": 7,
   "metadata": {},
   "outputs": [],
   "source": [
    "# seems like 10 principle components will do\n",
    "pca = PCA(n_components=0.7, svd_solver=\"full\")\n",
    "ft_train_red = pca.fit_transform(ft_train)"
   ]
  },
  {
   "cell_type": "code",
   "execution_count": 8,
   "metadata": {},
   "outputs": [
    {
     "data": {
      "text/plain": [
       "(4088, 6)"
      ]
     },
     "execution_count": 8,
     "metadata": {},
     "output_type": "execute_result"
    }
   ],
   "source": [
    "ft_train_red.shape"
   ]
  },
  {
   "cell_type": "code",
   "execution_count": 9,
   "metadata": {},
   "outputs": [],
   "source": [
    "# get the reduced dimension test set\n",
    "ft_test_red = pca.transform(ft_test)"
   ]
  },
  {
   "cell_type": "code",
   "execution_count": 10,
   "metadata": {},
   "outputs": [
    {
     "data": {
      "text/plain": [
       "(1022, 6)"
      ]
     },
     "execution_count": 10,
     "metadata": {},
     "output_type": "execute_result"
    }
   ],
   "source": [
    "ft_test_red.shape"
   ]
  },
  {
   "cell_type": "markdown",
   "metadata": {},
   "source": [
    "## Save results"
   ]
  },
  {
   "cell_type": "code",
   "execution_count": 11,
   "metadata": {},
   "outputs": [],
   "source": [
    "np.save(\"./processed_data/features_train_red\", ft_train_red)\n",
    "np.save(\"./processed_data/features_test_red\", ft_test_red)"
   ]
  },
  {
   "cell_type": "markdown",
   "metadata": {},
   "source": [
    "---------------------------------------------------------------------------------------------\n",
    "## Trying it out?"
   ]
  },
  {
   "cell_type": "code",
   "execution_count": 12,
   "metadata": {},
   "outputs": [
    {
     "data": {
      "text/plain": [
       "GridSearchCV(cv=3,\n",
       "             estimator=Pipeline(steps=[('pca', PCA()),\n",
       "                                       ('lr',\n",
       "                                        LogisticRegression(class_weight='balanced'))]),\n",
       "             param_grid=[{'lr__C': [0.001, 0.003, 0.005, 0.01, 0.03, 0.05, 0.1,\n",
       "                                    0.3, 0.5, 1, 2, 3, 3, 4, 5],\n",
       "                          'pca__n_components': [2, 3, 5, 6, 8, 10, 11, 13, 14,\n",
       "                                                15]}])"
      ]
     },
     "execution_count": 12,
     "metadata": {},
     "output_type": "execute_result"
    }
   ],
   "source": [
    "\n",
    "clf = Pipeline([\n",
    "    (\"pca\", PCA()),\n",
    "    (\"lr\", LogisticRegression(class_weight='balanced')) \n",
    "])\n",
    "param_grid = [{\n",
    "    \"pca__n_components\": [2,3,5,6,8,10,11,13,14,15],\n",
    "    \"lr__C\": [0.001,0.003,0.005,0.01,0.03,0.05,0.1,0.3,0.5,1,2,3,3,4,5]\n",
    "}]\n",
    "\n",
    "gs = GridSearchCV(clf, param_grid, cv=3) \n",
    "gs.fit(ft_train, lbl_train)"
   ]
  },
  {
   "cell_type": "code",
   "execution_count": 13,
   "metadata": {},
   "outputs": [
    {
     "data": {
      "text/plain": [
       "{'lr__C': 0.001, 'pca__n_components': 2}"
      ]
     },
     "execution_count": 13,
     "metadata": {},
     "output_type": "execute_result"
    }
   ],
   "source": [
    "gs.best_params_"
   ]
  },
  {
   "cell_type": "code",
   "execution_count": 14,
   "metadata": {},
   "outputs": [],
   "source": [
    "pca = PCA(n_components=5)\n",
    "ft_train_red = pca.fit_transform(ft_train)"
   ]
  },
  {
   "cell_type": "code",
   "execution_count": 15,
   "metadata": {},
   "outputs": [
    {
     "data": {
      "text/plain": [
       "LogisticRegression(C=0.001, class_weight='balanced')"
      ]
     },
     "execution_count": 15,
     "metadata": {},
     "output_type": "execute_result"
    }
   ],
   "source": [
    "lr = LogisticRegression(class_weight='balanced', C=0.001)\n",
    "lr.fit(ft_train_red, lbl_train)"
   ]
  },
  {
   "cell_type": "code",
   "execution_count": 16,
   "metadata": {},
   "outputs": [
    {
     "name": "stdout",
     "output_type": "stream",
     "text": [
      "accuracy = 0.716242661448141\n",
      "precision = 0.09183673469387756\n",
      "recall = 0.54\n",
      "f1 = 0.1569767441860465\n",
      "ROC AUC score = 0.6326543209876544\n"
     ]
    },
    {
     "data": {
      "image/png": "[encoded data removed]",
      "text/plain": [
       "<Figure size 432x288 with 2 Axes>"
      ]
     },
     "metadata": {
      "needs_background": "light"
     },
     "output_type": "display_data"
    },
    {
     "data": {
      "image/png": "[encoded data removed]",
      "text/plain": [
       "<Figure size 432x288 with 1 Axes>"
      ]
     },
     "metadata": {
      "needs_background": "light"
     },
     "output_type": "display_data"
    }
   ],
   "source": [
    "# log reg w/ reduced dimension\n",
    "model_report_from(lr, pca.fit_transform(ft_test), lbl_test, [])"
   ]
  },
  {
   "cell_type": "code",
   "execution_count": 17,
   "metadata": {},
   "outputs": [
    {
     "name": "stdout",
     "output_type": "stream",
     "text": [
      "accuracy = 0.7270058708414873\n",
      "precision = 0.12459016393442623\n",
      "recall = 0.76\n",
      "f1 = 0.21408450704225354\n",
      "ROC AUC score = 0.7426543209876544\n"
     ]
    },
    {
     "data": {
      "image/png": "[encoded data removed]",
      "text/plain": [
       "<Figure size 432x288 with 2 Axes>"
      ]
     },
     "metadata": {
      "needs_background": "light"
     },
     "output_type": "display_data"
    },
    {
     "data": {
      "image/png": "[encoded data removed]",
      "text/plain": [
       "<Figure size 432x288 with 1 Axes>"
      ]
     },
     "metadata": {
      "needs_background": "light"
     },
     "output_type": "display_data"
    }
   ],
   "source": [
    "# vanilla log reg\n",
    "lr.fit(ft_train, lbl_train)\n",
    "model_report_from(lr, ft_test, lbl_test, [])"
   ]
  },
  {
   "cell_type": "code",
   "execution_count": null,
   "metadata": {},
   "outputs": [],
   "source": []
  }
 ],
 "metadata": {
  "kernelspec": {
   "display_name": "Python 3.8.8 64-bit ('overkill': conda)",
   "language": "python",
   "name": "python388jvsc74a57bd06e6ad889fcaea27e21a86df4e22aa8371ee6d2820eb26a1dff21ecfb6b10d3da"
  },
  "language_info": {
   "codemirror_mode": {
    "name": "ipython",
    "version": 3
   },
   "file_extension": ".py",
   "mimetype": "text/x-python",
   "name": "python",
   "nbconvert_exporter": "python",
   "pygments_lexer": "ipython3",
   "version": "3.8.8"
  },
  "metadata": {
   "interpreter": {
    "hash": "6e6ad889fcaea27e21a86df4e22aa8371ee6d2820eb26a1dff21ecfb6b10d3da"
   }
  }
 },
 "nbformat": 4,
 "nbformat_minor": 2
}
