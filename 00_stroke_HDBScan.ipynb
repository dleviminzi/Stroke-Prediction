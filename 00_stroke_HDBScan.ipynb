{
 "cells": [
  {
   "cell_type": "code",
   "execution_count": 297,
   "metadata": {},
   "outputs": [],
   "source": [
    "import pandas as pd \n",
    "import numpy as np\n",
    "import seaborn as sns\n",
    "from sklearn.preprocessing import OneHotEncoder \n",
    "from sklearn.preprocessing import LabelEncoder\n",
    "from matplotlib import pyplot as plt"
   ]
  },
  {
   "cell_type": "code",
   "execution_count": 298,
   "metadata": {},
   "outputs": [],
   "source": [
    "df = pd.read_csv('./dataset-stroke.csv').drop(columns=['Unnamed: 0', 'id'])"
   ]
  },
  {
   "cell_type": "code",
   "execution_count": 299,
   "metadata": {},
   "outputs": [
    {
     "name": "stderr",
     "output_type": "stream",
     "text": [
      "/Users/dminzi-lt/miniforge3/envs/overkill/lib/python3.8/site-packages/sklearn/utils/validation.py:63: DataConversionWarning: A column-vector y was passed when a 1d array was expected. Please change the shape of y to (n_samples, ), for example using ravel().\n",
      "  return f(*args, **kwargs)\n"
     ]
    }
   ],
   "source": [
    "# get dummies of the categoricals for the sake of visualization \n",
    "df['smoker'] = LabelEncoder().fit_transform(df.smoking_status.to_numpy().reshape(-1, 1))\n",
    "df['residence'] = LabelEncoder().fit_transform(df.Residence_type.to_numpy().reshape(-1, 1))\n",
    "df['work'] = LabelEncoder().fit_transform(df.work_type.to_numpy().reshape(-1, 1))\n",
    "\n",
    "df.drop(columns=['smoking_status', 'Residence_type', 'work_type'], inplace=True)"
   ]
  },
  {
   "cell_type": "code",
   "execution_count": null,
   "metadata": {},
   "outputs": [],
   "source": []
  },
  {
   "cell_type": "code",
   "execution_count": 300,
   "metadata": {},
   "outputs": [
    {
     "data": {
      "text/html": "<div>\n<style scoped>\n    .dataframe tbody tr th:only-of-type {\n        vertical-align: middle;\n    }\n\n    .dataframe tbody tr th {\n        vertical-align: top;\n    }\n\n    .dataframe thead th {\n        text-align: right;\n    }\n</style>\n<table border=\"1\" class=\"dataframe\">\n  <thead>\n    <tr style=\"text-align: right;\">\n      <th></th>\n      <th>gender</th>\n      <th>age</th>\n      <th>hypertension</th>\n      <th>heart_disease</th>\n      <th>ever_married</th>\n      <th>avg_glucose_level</th>\n      <th>bmi</th>\n      <th>stroke</th>\n      <th>smoker</th>\n      <th>residence</th>\n      <th>work</th>\n    </tr>\n  </thead>\n  <tbody>\n    <tr>\n      <th>0</th>\n      <td>Female</td>\n      <td>24.0</td>\n      <td>0</td>\n      <td>0</td>\n      <td>Yes</td>\n      <td>85.55</td>\n      <td>63.3</td>\n      <td>0</td>\n      <td>2</td>\n      <td>1</td>\n      <td>2</td>\n    </tr>\n    <tr>\n      <th>1</th>\n      <td>Male</td>\n      <td>57.0</td>\n      <td>1</td>\n      <td>0</td>\n      <td>Yes</td>\n      <td>78.92</td>\n      <td>27.7</td>\n      <td>1</td>\n      <td>1</td>\n      <td>1</td>\n      <td>0</td>\n    </tr>\n    <tr>\n      <th>2</th>\n      <td>Female</td>\n      <td>69.0</td>\n      <td>0</td>\n      <td>0</td>\n      <td>Yes</td>\n      <td>103.73</td>\n      <td>34.7</td>\n      <td>0</td>\n      <td>2</td>\n      <td>0</td>\n      <td>2</td>\n    </tr>\n    <tr>\n      <th>3</th>\n      <td>Male</td>\n      <td>60.0</td>\n      <td>0</td>\n      <td>0</td>\n      <td>Yes</td>\n      <td>227.23</td>\n      <td>40.0</td>\n      <td>0</td>\n      <td>1</td>\n      <td>1</td>\n      <td>3</td>\n    </tr>\n    <tr>\n      <th>4</th>\n      <td>Female</td>\n      <td>65.0</td>\n      <td>0</td>\n      <td>0</td>\n      <td>Yes</td>\n      <td>82.72</td>\n      <td>29.8</td>\n      <td>0</td>\n      <td>3</td>\n      <td>1</td>\n      <td>0</td>\n    </tr>\n  </tbody>\n</table>\n</div>",
      "text/plain": "   gender   age  hypertension  heart_disease ever_married  avg_glucose_level  \\\n0  Female  24.0             0              0          Yes              85.55   \n1    Male  57.0             1              0          Yes              78.92   \n2  Female  69.0             0              0          Yes             103.73   \n3    Male  60.0             0              0          Yes             227.23   \n4  Female  65.0             0              0          Yes              82.72   \n\n    bmi  stroke  smoker  residence  work  \n0  63.3       0       2          1     2  \n1  27.7       1       1          1     0  \n2  34.7       0       2          0     2  \n3  40.0       0       1          1     3  \n4  29.8       0       3          1     0  "
     },
     "execution_count": 300,
     "metadata": {},
     "output_type": "execute_result"
    }
   ],
   "source": [
    "df.head()"
   ]
  },
  {
   "cell_type": "code",
   "execution_count": 301,
   "metadata": {},
   "outputs": [],
   "source": [
    "# again just temporary for this visualization \n",
    "df['gender'] = OneHotEncoder().fit_transform(df.gender.to_numpy().reshape(-1, 1)).toarray()\n",
    "df['ever_married'] = OneHotEncoder().fit_transform(df.ever_married.to_numpy().reshape(-1, 1)).toarray()"
   ]
  },
  {
   "cell_type": "code",
   "execution_count": 302,
   "metadata": {},
   "outputs": [
    {
     "data": {
      "text/html": "<div>\n<style scoped>\n    .dataframe tbody tr th:only-of-type {\n        vertical-align: middle;\n    }\n\n    .dataframe tbody tr th {\n        vertical-align: top;\n    }\n\n    .dataframe thead th {\n        text-align: right;\n    }\n</style>\n<table border=\"1\" class=\"dataframe\">\n  <thead>\n    <tr style=\"text-align: right;\">\n      <th></th>\n      <th>gender</th>\n      <th>age</th>\n      <th>hypertension</th>\n      <th>heart_disease</th>\n      <th>ever_married</th>\n      <th>avg_glucose_level</th>\n      <th>bmi</th>\n      <th>stroke</th>\n      <th>smoker</th>\n      <th>residence</th>\n      <th>work</th>\n    </tr>\n  </thead>\n  <tbody>\n    <tr>\n      <th>0</th>\n      <td>1.0</td>\n      <td>24.0</td>\n      <td>0</td>\n      <td>0</td>\n      <td>0.0</td>\n      <td>85.55</td>\n      <td>63.3</td>\n      <td>0</td>\n      <td>2</td>\n      <td>1</td>\n      <td>2</td>\n    </tr>\n    <tr>\n      <th>1</th>\n      <td>0.0</td>\n      <td>57.0</td>\n      <td>1</td>\n      <td>0</td>\n      <td>0.0</td>\n      <td>78.92</td>\n      <td>27.7</td>\n      <td>1</td>\n      <td>1</td>\n      <td>1</td>\n      <td>0</td>\n    </tr>\n    <tr>\n      <th>2</th>\n      <td>1.0</td>\n      <td>69.0</td>\n      <td>0</td>\n      <td>0</td>\n      <td>0.0</td>\n      <td>103.73</td>\n      <td>34.7</td>\n      <td>0</td>\n      <td>2</td>\n      <td>0</td>\n      <td>2</td>\n    </tr>\n    <tr>\n      <th>3</th>\n      <td>0.0</td>\n      <td>60.0</td>\n      <td>0</td>\n      <td>0</td>\n      <td>0.0</td>\n      <td>227.23</td>\n      <td>40.0</td>\n      <td>0</td>\n      <td>1</td>\n      <td>1</td>\n      <td>3</td>\n    </tr>\n    <tr>\n      <th>4</th>\n      <td>1.0</td>\n      <td>65.0</td>\n      <td>0</td>\n      <td>0</td>\n      <td>0.0</td>\n      <td>82.72</td>\n      <td>29.8</td>\n      <td>0</td>\n      <td>3</td>\n      <td>1</td>\n      <td>0</td>\n    </tr>\n  </tbody>\n</table>\n</div>",
      "text/plain": "   gender   age  hypertension  heart_disease  ever_married  avg_glucose_level  \\\n0     1.0  24.0             0              0           0.0              85.55   \n1     0.0  57.0             1              0           0.0              78.92   \n2     1.0  69.0             0              0           0.0             103.73   \n3     0.0  60.0             0              0           0.0             227.23   \n4     1.0  65.0             0              0           0.0              82.72   \n\n    bmi  stroke  smoker  residence  work  \n0  63.3       0       2          1     2  \n1  27.7       1       1          1     0  \n2  34.7       0       2          0     2  \n3  40.0       0       1          1     3  \n4  29.8       0       3          1     0  "
     },
     "execution_count": 302,
     "metadata": {},
     "output_type": "execute_result"
    }
   ],
   "source": [
    "df.head()"
   ]
  },
  {
   "cell_type": "code",
   "execution_count": 303,
   "metadata": {},
   "outputs": [],
   "source": [
    "labels = df.stroke.to_numpy()\n",
    "df.drop(columns=['stroke','bmi'], inplace=True)"
   ]
  },
  {
   "cell_type": "code",
   "execution_count": 304,
   "metadata": {},
   "outputs": [],
   "source": [
    "df.dropna(inplace=True)"
   ]
  },
  {
   "cell_type": "code",
   "execution_count": 305,
   "metadata": {},
   "outputs": [],
   "source": [
    "from sklearn.pipeline import Pipeline\n",
    "from sklearn.preprocessing import StandardScaler\n",
    "from sklearn.impute import KNNImputer\n",
    "\n",
    "imputer = KNNImputer(n_neighbors=1)\n",
    "\n",
    "num_pipe = Pipeline([\n",
    "    ('imputer', imputer),\n",
    "    ('std_scaler', StandardScaler())\n",
    "])\n",
    "\n",
    "X = num_pipe.fit_transform(df)"
   ]
  },
  {
   "cell_type": "code",
   "execution_count": 306,
   "metadata": {},
   "outputs": [
    {
     "data": {
      "text/plain": "HDBSCAN()"
     },
     "execution_count": 306,
     "metadata": {},
     "output_type": "execute_result"
    }
   ],
   "source": [
    "import hdbscan\n",
    "\n",
    "clst = hdbscan.HDBSCAN()\n",
    "\n",
    "clst.fit(X)"
   ]
  },
  {
   "cell_type": "code",
   "execution_count": 307,
   "metadata": {},
   "outputs": [],
   "source": [
    "df['hdb'] = clst.labels_"
   ]
  },
  {
   "cell_type": "code",
   "execution_count": 308,
   "metadata": {},
   "outputs": [],
   "source": [
    "df['stroke'] = labels"
   ]
  },
  {
   "cell_type": "code",
   "execution_count": 309,
   "metadata": {},
   "outputs": [
    {
     "data": {
      "text/html": "<div>\n<style scoped>\n    .dataframe tbody tr th:only-of-type {\n        vertical-align: middle;\n    }\n\n    .dataframe tbody tr th {\n        vertical-align: top;\n    }\n\n    .dataframe thead th {\n        text-align: right;\n    }\n</style>\n<table border=\"1\" class=\"dataframe\">\n  <thead>\n    <tr style=\"text-align: right;\">\n      <th></th>\n      <th>gender</th>\n      <th>age</th>\n      <th>hypertension</th>\n      <th>heart_disease</th>\n      <th>ever_married</th>\n      <th>avg_glucose_level</th>\n      <th>smoker</th>\n      <th>residence</th>\n      <th>work</th>\n      <th>hdb</th>\n      <th>stroke</th>\n    </tr>\n  </thead>\n  <tbody>\n    <tr>\n      <th>1</th>\n      <td>0.0</td>\n      <td>57.00</td>\n      <td>1</td>\n      <td>0</td>\n      <td>0.0</td>\n      <td>78.92</td>\n      <td>1</td>\n      <td>1</td>\n      <td>0</td>\n      <td>11</td>\n      <td>1</td>\n    </tr>\n    <tr>\n      <th>16</th>\n      <td>1.0</td>\n      <td>74.00</td>\n      <td>0</td>\n      <td>0</td>\n      <td>0.0</td>\n      <td>74.96</td>\n      <td>2</td>\n      <td>1</td>\n      <td>3</td>\n      <td>42</td>\n      <td>1</td>\n    </tr>\n    <tr>\n      <th>31</th>\n      <td>1.0</td>\n      <td>81.00</td>\n      <td>0</td>\n      <td>0</td>\n      <td>0.0</td>\n      <td>184.40</td>\n      <td>2</td>\n      <td>0</td>\n      <td>2</td>\n      <td>-1</td>\n      <td>1</td>\n    </tr>\n    <tr>\n      <th>42</th>\n      <td>0.0</td>\n      <td>71.00</td>\n      <td>1</td>\n      <td>1</td>\n      <td>1.0</td>\n      <td>216.94</td>\n      <td>2</td>\n      <td>0</td>\n      <td>0</td>\n      <td>-1</td>\n      <td>1</td>\n    </tr>\n    <tr>\n      <th>44</th>\n      <td>0.0</td>\n      <td>78.00</td>\n      <td>0</td>\n      <td>0</td>\n      <td>0.0</td>\n      <td>133.19</td>\n      <td>1</td>\n      <td>1</td>\n      <td>3</td>\n      <td>-1</td>\n      <td>1</td>\n    </tr>\n    <tr>\n      <th>...</th>\n      <td>...</td>\n      <td>...</td>\n      <td>...</td>\n      <td>...</td>\n      <td>...</td>\n      <td>...</td>\n      <td>...</td>\n      <td>...</td>\n      <td>...</td>\n      <td>...</td>\n      <td>...</td>\n    </tr>\n    <tr>\n      <th>2220</th>\n      <td>1.0</td>\n      <td>79.00</td>\n      <td>0</td>\n      <td>1</td>\n      <td>0.0</td>\n      <td>226.98</td>\n      <td>2</td>\n      <td>1</td>\n      <td>2</td>\n      <td>1</td>\n      <td>1</td>\n    </tr>\n    <tr>\n      <th>2263</th>\n      <td>1.0</td>\n      <td>71.00</td>\n      <td>0</td>\n      <td>0</td>\n      <td>0.0</td>\n      <td>263.32</td>\n      <td>2</td>\n      <td>1</td>\n      <td>0</td>\n      <td>-1</td>\n      <td>1</td>\n    </tr>\n    <tr>\n      <th>2291</th>\n      <td>1.0</td>\n      <td>1.32</td>\n      <td>0</td>\n      <td>0</td>\n      <td>1.0</td>\n      <td>70.37</td>\n      <td>0</td>\n      <td>1</td>\n      <td>4</td>\n      <td>59</td>\n      <td>1</td>\n    </tr>\n    <tr>\n      <th>2292</th>\n      <td>1.0</td>\n      <td>48.00</td>\n      <td>0</td>\n      <td>0</td>\n      <td>0.0</td>\n      <td>74.11</td>\n      <td>2</td>\n      <td>1</td>\n      <td>2</td>\n      <td>55</td>\n      <td>1</td>\n    </tr>\n    <tr>\n      <th>2306</th>\n      <td>1.0</td>\n      <td>55.00</td>\n      <td>1</td>\n      <td>1</td>\n      <td>0.0</td>\n      <td>210.40</td>\n      <td>3</td>\n      <td>1</td>\n      <td>2</td>\n      <td>0</td>\n      <td>1</td>\n    </tr>\n  </tbody>\n</table>\n<p>122 rows × 11 columns</p>\n</div>",
      "text/plain": "      gender    age  hypertension  heart_disease  ever_married  \\\n1        0.0  57.00             1              0           0.0   \n16       1.0  74.00             0              0           0.0   \n31       1.0  81.00             0              0           0.0   \n42       0.0  71.00             1              1           1.0   \n44       0.0  78.00             0              0           0.0   \n...      ...    ...           ...            ...           ...   \n2220     1.0  79.00             0              1           0.0   \n2263     1.0  71.00             0              0           0.0   \n2291     1.0   1.32             0              0           1.0   \n2292     1.0  48.00             0              0           0.0   \n2306     1.0  55.00             1              1           0.0   \n\n      avg_glucose_level  smoker  residence  work  hdb  stroke  \n1                 78.92       1          1     0   11       1  \n16                74.96       2          1     3   42       1  \n31               184.40       2          0     2   -1       1  \n42               216.94       2          0     0   -1       1  \n44               133.19       1          1     3   -1       1  \n...                 ...     ...        ...   ...  ...     ...  \n2220             226.98       2          1     2    1       1  \n2263             263.32       2          1     0   -1       1  \n2291              70.37       0          1     4   59       1  \n2292              74.11       2          1     2   55       1  \n2306             210.40       3          1     2    0       1  \n\n[122 rows x 11 columns]"
     },
     "execution_count": 309,
     "metadata": {},
     "output_type": "execute_result"
    }
   ],
   "source": [
    "df[df.stroke==1]"
   ]
  },
  {
   "cell_type": "markdown",
   "metadata": {},
   "source": []
  },
  {
   "cell_type": "code",
   "execution_count": 310,
   "metadata": {},
   "outputs": [],
   "source": [
    "import umap\n",
    "\n",
    "red = umap.UMAP()\n",
    "embed = red.fit_transform(X)"
   ]
  },
  {
   "cell_type": "code",
   "execution_count": 311,
   "metadata": {},
   "outputs": [
    {
     "data": {
      "text/plain": "<matplotlib.collections.PathCollection at 0x16d326e20>"
     },
     "execution_count": 311,
     "metadata": {},
     "output_type": "execute_result"
    },
    {
     "data": {
      "image/png": "[encoded data removed]",
      "text/plain": "<Figure size 432x288 with 1 Axes>"
     },
     "metadata": {
      "needs_background": "light"
     },
     "output_type": "display_data"
    }
   ],
   "source": [
    "plt.scatter(\n",
    "    embed[:, 0],\n",
    "    embed[:, 1],\n",
    "    c=df.hdb\n",
    ")"
   ]
  },
  {
   "cell_type": "code",
   "execution_count": 312,
   "metadata": {},
   "outputs": [],
   "source": [
    "df.drop(columns=['stroke'],inplace=True)"
   ]
  },
  {
   "cell_type": "code",
   "execution_count": 313,
   "metadata": {},
   "outputs": [],
   "source": [
    "from sklearn.model_selection import train_test_split\n",
    "\n",
    "X_train, X_test, y_train, y_test = train_test_split(X, labels, train_size=0.8, stratify=labels)\n"
   ]
  },
  {
   "cell_type": "code",
   "execution_count": 314,
   "metadata": {},
   "outputs": [],
   "source": [
    "from sklearn.neighbors import KNeighborsClassifier\n",
    "\n",
    "knc = KNeighborsClassifier(2)"
   ]
  },
  {
   "cell_type": "code",
   "execution_count": 315,
   "metadata": {},
   "outputs": [
    {
     "data": {
      "text/plain": "KNeighborsClassifier(n_neighbors=2)"
     },
     "execution_count": 315,
     "metadata": {},
     "output_type": "execute_result"
    }
   ],
   "source": [
    "knc.fit(X_train, y_train)"
   ]
  },
  {
   "cell_type": "code",
   "execution_count": 316,
   "metadata": {},
   "outputs": [
    {
     "data": {
      "text/plain": "0.948051948051948"
     },
     "execution_count": 316,
     "metadata": {},
     "output_type": "execute_result"
    }
   ],
   "source": [
    "knc.score(X_test, y_test)"
   ]
  },
  {
   "cell_type": "code",
   "execution_count": 317,
   "metadata": {},
   "outputs": [],
   "source": [
    "# Helper function that allows you to draw nicely formatted confusion matrices\n",
    "def draw_confusion_matrix(y, yhat, classes):\n",
    "    '''\n",
    "        Draws a confusion matrix for the given target and predictions\n",
    "        Adapted from scikit-learn and discussion example.\n",
    "    '''\n",
    "    plt.cla()\n",
    "    plt.clf()\n",
    "    matrix = confusion_matrix(y, yhat)\n",
    "    plt.imshow(matrix, interpolation='nearest', cmap=plt.cm.Blues)\n",
    "    plt.title(\"Confusion Matrix\")\n",
    "    plt.colorbar()\n",
    "    num_classes = len(classes)\n",
    "    plt.xticks(np.arange(num_classes), classes, rotation=90)\n",
    "    plt.yticks(np.arange(num_classes), classes)\n",
    "    \n",
    "    fmt = 'd'\n",
    "    thresh = matrix.max() / 2.\n",
    "    for i, j in itertools.product(range(matrix.shape[0]), range(matrix.shape[1])):\n",
    "        plt.text(j, i, format(matrix[i, j], fmt),\n",
    "                 horizontalalignment=\"center\",\n",
    "                 color=\"white\" if matrix[i, j] > thresh else \"black\")\n",
    "\n",
    "    plt.ylabel('True label')\n",
    "    plt.xlabel('Predicted label')\n",
    "    plt.tight_layout()\n",
    "    plt.show()"
   ]
  },
  {
   "cell_type": "code",
   "execution_count": 318,
   "metadata": {},
   "outputs": [],
   "source": [
    "import itertools\n",
    "from sklearn.metrics import precision_score\n",
    "from sklearn.metrics import recall_score\n",
    "from sklearn.metrics import f1_score\n",
    "from sklearn.metrics import accuracy_score\n",
    "from sklearn.model_selection import cross_val_predict\n",
    "from sklearn.metrics import confusion_matrix\n",
    "from sklearn.metrics import plot_roc_curve\n",
    "from sklearn.metrics import roc_auc_score\n",
    "\n",
    "def model_report_from(model):\n",
    "    y_test_pred = model.predict(X_test)\n",
    "\n",
    "    print(f\"accuracy = {model.score(X_test, y_test)}\")\n",
    "    print(f\"precision = {precision_score(y_test, y_test_pred)}\")\n",
    "    print(f\"recall = {recall_score(y_test, y_test_pred)}\")\n",
    "    print(f\"f1 = {f1_score(y_test, y_test_pred)}\")\n",
    "\n",
    "    # display confusion matrix\n",
    "    draw_confusion_matrix(y_test, y_test_pred, [\"NO STROKE\", \"STROKE\"])\n",
    "\n",
    "    # draw ROC curve\n",
    "    plot_roc_curve(model, X_test, y_test)\n",
    "    plt.plot([0, 1], [0, 1], 'k--')\n",
    "    plt.title(\"ROC Curve\")\n",
    "    plt.ylabel(\"True Positive Rate (Recall)\")\n",
    "    plt.xlabel(\"False Positive Rate\")\n",
    "    plt.legend(loc=\"lower right\")\n",
    "    plt.show()\n",
    "\n",
    "    print(f\"ROC AUC score = {roc_auc_score(y_test, y_test_pred)}\")"
   ]
  },
  {
   "cell_type": "code",
   "execution_count": 319,
   "metadata": {},
   "outputs": [
    {
     "name": "stdout",
     "output_type": "stream",
     "text": [
      "accuracy = 0.948051948051948\n",
      "precision = 0.5\n",
      "recall = 0.041666666666666664\n",
      "f1 = 0.07692307692307693\n"
     ]
    },
    {
     "data": {
      "image/png": "[encoded data removed]",
      "text/plain": "<Figure size 432x288 with 2 Axes>"
     },
     "metadata": {
      "needs_background": "light"
     },
     "output_type": "display_data"
    },
    {
     "data": {
      "image/png": "[encoded data removed]",
      "text/plain": "<Figure size 432x288 with 1 Axes>"
     },
     "metadata": {
      "needs_background": "light"
     },
     "output_type": "display_data"
    },
    {
     "name": "stdout",
     "output_type": "stream",
     "text": [
      "ROC AUC score = 0.5196917808219178\n"
     ]
    }
   ],
   "source": [
    "model_report_from(knc)"
   ]
  },
  {
   "cell_type": "code",
   "execution_count": null,
   "metadata": {},
   "outputs": [],
   "source": []
  }
 ],
 "metadata": {
  "kernelspec": {
   "display_name": "Python 3.8.8 64-bit ('overkill': conda)",
   "name": "python388jvsc74a57bd06e6ad889fcaea27e21a86df4e22aa8371ee6d2820eb26a1dff21ecfb6b10d3da"
  },
  "language_info": {
   "name": "python",
   "version": ""
  },
  "metadata": {
   "interpreter": {
    "hash": "6e6ad889fcaea27e21a86df4e22aa8371ee6d2820eb26a1dff21ecfb6b10d3da"
   }
  },
  "orig_nbformat": 2
 },
 "nbformat": 4,
 "nbformat_minor": 2
}